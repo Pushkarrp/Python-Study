{
 "cells": [
  {
   "cell_type": "code",
   "execution_count": 1,
   "id": "1fa522c9",
   "metadata": {},
   "outputs": [],
   "source": [
    "arr = [4,2,9,7,5,6,7,1,3]\n",
    "k = 4"
   ]
  },
  {
   "cell_type": "code",
   "execution_count": 2,
   "id": "2c25e319",
   "metadata": {},
   "outputs": [],
   "source": [
    "import pandas as pd"
   ]
  },
  {
   "cell_type": "code",
   "execution_count": 3,
   "id": "e735ded3",
   "metadata": {},
   "outputs": [],
   "source": [
    "ser = pd.Series(arr)"
   ]
  },
  {
   "cell_type": "code",
   "execution_count": 4,
   "id": "b98cbae6",
   "metadata": {},
   "outputs": [],
   "source": [
    "ser.sort_values(inplace=True , ascending=False)"
   ]
  },
  {
   "cell_type": "code",
   "execution_count": 5,
   "id": "3bb5868a",
   "metadata": {},
   "outputs": [],
   "source": [
    "ser.set_axis(range(len(arr)) , inplace=True)"
   ]
  },
  {
   "cell_type": "code",
   "execution_count": 6,
   "id": "d51dff0d",
   "metadata": {},
   "outputs": [
    {
     "data": {
      "text/plain": [
       "0    9\n",
       "1    7\n",
       "2    7\n",
       "3    6\n",
       "4    5\n",
       "5    4\n",
       "6    3\n",
       "7    2\n",
       "8    1\n",
       "dtype: int64"
      ]
     },
     "execution_count": 6,
     "metadata": {},
     "output_type": "execute_result"
    }
   ],
   "source": [
    "ser"
   ]
  },
  {
   "cell_type": "code",
   "execution_count": 7,
   "id": "1ce53b5e",
   "metadata": {},
   "outputs": [
    {
     "data": {
      "text/plain": [
       "6"
      ]
     },
     "execution_count": 7,
     "metadata": {},
     "output_type": "execute_result"
    }
   ],
   "source": [
    "ser[k-1]"
   ]
  },
  {
   "cell_type": "markdown",
   "id": "b23bf570",
   "metadata": {},
   "source": [
    "_____________________"
   ]
  },
  {
   "cell_type": "code",
   "execution_count": 8,
   "id": "750721c5",
   "metadata": {},
   "outputs": [
    {
     "name": "stdout",
     "output_type": "stream",
     "text": [
      "9\n",
      "7\n",
      "7\n",
      "4th max =  6\n"
     ]
    }
   ],
   "source": [
    "arr2 = arr\n",
    "\n",
    "for i in range(k-1) :\n",
    "    print(max(arr2))\n",
    "    arr2.remove( max(arr2) )\n",
    "\n",
    "print(\"4th max = \", max(arr2) )"
   ]
  },
  {
   "cell_type": "markdown",
   "id": "533952e6",
   "metadata": {},
   "source": [
    "__________________"
   ]
  },
  {
   "cell_type": "code",
   "execution_count": 12,
   "id": "1ba12021",
   "metadata": {},
   "outputs": [],
   "source": [
    "arr = [4,2,9,7,5,6,7,1,3]\n",
    "k = 4"
   ]
  },
  {
   "cell_type": "code",
   "execution_count": 13,
   "id": "a2578e35",
   "metadata": {},
   "outputs": [],
   "source": [
    "arr.sort()"
   ]
  },
  {
   "cell_type": "code",
   "execution_count": 15,
   "id": "db707526",
   "metadata": {},
   "outputs": [
    {
     "data": {
      "text/plain": [
       "6"
      ]
     },
     "execution_count": 15,
     "metadata": {},
     "output_type": "execute_result"
    }
   ],
   "source": [
    "arr[-k]"
   ]
  },
  {
   "cell_type": "code",
   "execution_count": null,
   "id": "32516fb2",
   "metadata": {},
   "outputs": [],
   "source": []
  }
 ],
 "metadata": {
  "kernelspec": {
   "display_name": "Python 3",
   "language": "python",
   "name": "python3"
  },
  "language_info": {
   "codemirror_mode": {
    "name": "ipython",
    "version": 3
   },
   "file_extension": ".py",
   "mimetype": "text/x-python",
   "name": "python",
   "nbconvert_exporter": "python",
   "pygments_lexer": "ipython3",
   "version": "3.8.8"
  }
 },
 "nbformat": 4,
 "nbformat_minor": 5
}
