{
 "cells": [
  {
   "cell_type": "code",
   "execution_count": 2,
   "id": "c194e228",
   "metadata": {},
   "outputs": [
    {
     "data": {
      "text/plain": [
       "'\\n3 - Fizz\\n5 - Buzz\\n15 - FizzBuzz\\n'"
      ]
     },
     "execution_count": 2,
     "metadata": {},
     "output_type": "execute_result"
    }
   ],
   "source": [
    "\"\"\"\n",
    "3 - Fizz\n",
    "5 - Buzz\n",
    "15 - FizzBuzz\n",
    "\"\"\""
   ]
  },
  {
   "cell_type": "code",
   "execution_count": 5,
   "id": "a075de54",
   "metadata": {},
   "outputs": [],
   "source": [
    "def fiz_buzz(n):\n",
    "    \n",
    "    for i in range(1 , n+1):\n",
    "        if i%3==0 and i%5==0:\n",
    "            print(\"FizzBuzz\")\n",
    "        elif i%3==0 and i%5!=0:\n",
    "            print(\"Fizz\")\n",
    "        elif i%3!=0 and i%5==0:\n",
    "            print(\"Buzz\")\n",
    "        else:\n",
    "            print(i)"
   ]
  },
  {
   "cell_type": "code",
   "execution_count": 6,
   "id": "e3199a96",
   "metadata": {},
   "outputs": [
    {
     "name": "stdout",
     "output_type": "stream",
     "text": [
      "1\n",
      "2\n",
      "Fizz\n",
      "4\n",
      "Buzz\n",
      "Fizz\n",
      "7\n",
      "8\n",
      "Fizz\n",
      "Buzz\n",
      "11\n",
      "Fizz\n",
      "13\n",
      "14\n",
      "FizzBuzz\n",
      "16\n",
      "17\n",
      "Fizz\n",
      "19\n",
      "Buzz\n"
     ]
    }
   ],
   "source": [
    "fiz_buzz(20)"
   ]
  },
  {
   "cell_type": "code",
   "execution_count": 10,
   "id": "8be2ce16",
   "metadata": {},
   "outputs": [],
   "source": [
    "fb_dict = {3 : 'Fizz' , 5 : \"Buzz\"}   "
   ]
  },
  {
   "cell_type": "code",
   "execution_count": 29,
   "id": "f40fe4b7",
   "metadata": {},
   "outputs": [],
   "source": [
    "def fb2(n):\n",
    "    for i in range(1, n+1):\n",
    "        ans=\"\"\n",
    "        \n",
    "        for k,v in fb_dict.items():\n",
    "            if i%k == 0:\n",
    "                ans+=v\n",
    "            \n",
    "        if ans==\"\":\n",
    "            ans=str(i)\n",
    "            \n",
    "        print(ans)"
   ]
  },
  {
   "cell_type": "code",
   "execution_count": 30,
   "id": "852604ee",
   "metadata": {},
   "outputs": [
    {
     "name": "stdout",
     "output_type": "stream",
     "text": [
      "1\n",
      "2\n",
      "Fizz\n",
      "4\n",
      "Buzz\n",
      "Fizz\n",
      "7\n",
      "8\n",
      "Fizz\n",
      "Buzz\n",
      "11\n",
      "Fizz\n",
      "13\n",
      "14\n",
      "FizzBuzz\n",
      "16\n"
     ]
    }
   ],
   "source": [
    "fb2(16)"
   ]
  },
  {
   "cell_type": "code",
   "execution_count": null,
   "id": "5cf61df5",
   "metadata": {},
   "outputs": [],
   "source": []
  }
 ],
 "metadata": {
  "kernelspec": {
   "display_name": "Python 3",
   "language": "python",
   "name": "python3"
  },
  "language_info": {
   "codemirror_mode": {
    "name": "ipython",
    "version": 3
   },
   "file_extension": ".py",
   "mimetype": "text/x-python",
   "name": "python",
   "nbconvert_exporter": "python",
   "pygments_lexer": "ipython3",
   "version": "3.8.8"
  }
 },
 "nbformat": 4,
 "nbformat_minor": 5
}
