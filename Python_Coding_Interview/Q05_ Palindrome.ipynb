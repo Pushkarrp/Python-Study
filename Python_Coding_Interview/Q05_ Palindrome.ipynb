{
 "cells": [
  {
   "cell_type": "code",
   "execution_count": 1,
   "id": "b1574c15",
   "metadata": {},
   "outputs": [],
   "source": [
    "word = \"radar\""
   ]
  },
  {
   "cell_type": "code",
   "execution_count": 2,
   "id": "6b5a65ab",
   "metadata": {},
   "outputs": [],
   "source": [
    "word2 = word[::-1]"
   ]
  },
  {
   "cell_type": "code",
   "execution_count": 3,
   "id": "05929e2d",
   "metadata": {},
   "outputs": [
    {
     "data": {
      "text/plain": [
       "'radar'"
      ]
     },
     "execution_count": 3,
     "metadata": {},
     "output_type": "execute_result"
    }
   ],
   "source": [
    "word2"
   ]
  },
  {
   "cell_type": "code",
   "execution_count": 4,
   "id": "9c1cb646",
   "metadata": {},
   "outputs": [
    {
     "name": "stdout",
     "output_type": "stream",
     "text": [
      "Plaindrome\n"
     ]
    }
   ],
   "source": [
    "if word == word2:\n",
    "    print(\"Plaindrome\")\n",
    "else:\n",
    "    print(\"NO\")"
   ]
  },
  {
   "cell_type": "code",
   "execution_count": 5,
   "id": "de835e4e",
   "metadata": {},
   "outputs": [
    {
     "name": "stdout",
     "output_type": "stream",
     "text": [
      "True\n"
     ]
    }
   ],
   "source": [
    "word = \"rradarr\"\n",
    "\n",
    "for i in range(len(word)):\n",
    "    # print(word[i] , \"\\t\\t\" , word[ len(word)-1 - i ])\n",
    "    last_idx = len(word)-1\n",
    "    flag = False\n",
    "    \n",
    "    if word[i] == word[ last_idx - i ]:\n",
    "        flag=True\n",
    "    else:\n",
    "        flag=False\n",
    "        break\n",
    "\n",
    "print(flag)"
   ]
  },
  {
   "cell_type": "code",
   "execution_count": 6,
   "id": "2681ad79",
   "metadata": {},
   "outputs": [
    {
     "name": "stdout",
     "output_type": "stream",
     "text": [
      "True\n"
     ]
    }
   ],
   "source": [
    "word = \"radar\"\n",
    "\n",
    "temp = ''.join(reversed(word))    \n",
    "\n",
    "if temp == word:\n",
    "    print( True )\n",
    "else:\n",
    "    print(False)"
   ]
  },
  {
   "cell_type": "markdown",
   "id": "ee857f18",
   "metadata": {},
   "source": [
    "-----------------------"
   ]
  },
  {
   "cell_type": "code",
   "execution_count": 7,
   "id": "8370712e",
   "metadata": {},
   "outputs": [],
   "source": [
    "num = 123456"
   ]
  },
  {
   "cell_type": "code",
   "execution_count": 10,
   "id": "3a286c81",
   "metadata": {},
   "outputs": [
    {
     "name": "stdout",
     "output_type": "stream",
     "text": [
      "654321\n"
     ]
    }
   ],
   "source": [
    "temp = num\n",
    "rev_num = 0\n",
    "    \n",
    "while(temp>0):\n",
    "    dig = temp%10\n",
    "    \n",
    "    rev_num = rev_num*10 + dig\n",
    "    \n",
    "    temp = temp//10\n",
    "    \n",
    "print(rev_num)\n",
    "    "
   ]
  },
  {
   "cell_type": "code",
   "execution_count": 12,
   "id": "d7ac3396",
   "metadata": {},
   "outputs": [],
   "source": [
    "s_num = str(num)"
   ]
  },
  {
   "cell_type": "code",
   "execution_count": 13,
   "id": "35263a8a",
   "metadata": {},
   "outputs": [
    {
     "data": {
      "text/plain": [
       "'123456'"
      ]
     },
     "execution_count": 13,
     "metadata": {},
     "output_type": "execute_result"
    }
   ],
   "source": [
    "s_num"
   ]
  },
  {
   "cell_type": "code",
   "execution_count": 15,
   "id": "a9f38782",
   "metadata": {},
   "outputs": [],
   "source": [
    "s_num = s_num[::-1]"
   ]
  },
  {
   "cell_type": "code",
   "execution_count": 16,
   "id": "90c0b22c",
   "metadata": {},
   "outputs": [
    {
     "data": {
      "text/plain": [
       "654321"
      ]
     },
     "execution_count": 16,
     "metadata": {},
     "output_type": "execute_result"
    }
   ],
   "source": [
    "int(s_num)"
   ]
  },
  {
   "cell_type": "code",
   "execution_count": null,
   "id": "23ad18fb",
   "metadata": {},
   "outputs": [],
   "source": [
    "def palin(s):\n",
    "    flag = False;\n",
    "    n = len(s)-1\n",
    "    i = 0\n",
    "    \n",
    "    while i < len(s):\n",
    "        first = i\n",
    "        last = n-i\n",
    "        \n",
    "        print(s[first] ,\"\\t\\t\",s[last])\n",
    "        \n",
    "        if s[first] == s[last] :\n",
    "            flag=True\n",
    "        else:\n",
    "            flag=False\n",
    "            break\n",
    "        i+=1\n",
    "\n",
    "palin(\"radar\")"
   ]
  },
  {
   "cell_type": "markdown",
   "id": "3dcc0a25",
   "metadata": {},
   "source": [
    "_____"
   ]
  },
  {
   "cell_type": "code",
   "execution_count": 2,
   "id": "03d02a91",
   "metadata": {},
   "outputs": [
    {
     "name": "stdout",
     "output_type": "stream",
     "text": [
      "Not Palindrome\n"
     ]
    }
   ],
   "source": [
    "word = \"radnar\"\n",
    "\n",
    "temp = word[::-1]\n",
    "\n",
    "if(temp==word):\n",
    "    print(\"Palindrome\")\n",
    "else:\n",
    "    print(\"Not Palindrome\")"
   ]
  },
  {
   "cell_type": "code",
   "execution_count": 5,
   "id": "df924d22",
   "metadata": {},
   "outputs": [
    {
     "name": "stdout",
     "output_type": "stream",
     "text": [
      "Not Palindrome\n"
     ]
    }
   ],
   "source": [
    "word = \"radxar\"\n",
    "\n",
    "n = len(word)-1\n",
    "flag= False\n",
    "\n",
    "for i in range( len(word) ):\n",
    "    if(word[i] == word[n-i]):\n",
    "        flag = True\n",
    "    else:\n",
    "        flag=False\n",
    "        break\n",
    "\n",
    "if(flag):\n",
    "    print(\"Plaindrome\")\n",
    "else:\n",
    "    print(\"Not Palindrome\")"
   ]
  },
  {
   "cell_type": "code",
   "execution_count": 10,
   "id": "190a43fd",
   "metadata": {},
   "outputs": [
    {
     "name": "stdout",
     "output_type": "stream",
     "text": [
      "Not Palindrome -  212321\n"
     ]
    }
   ],
   "source": [
    "# Num Palindrom\n",
    "\n",
    "num = 12321\n",
    "temp = num\n",
    "rev_num = 0\n",
    "\n",
    "while(temp>0):\n",
    "    digit = temp%10\n",
    "    rev_num = rev_num*10 + digit\n",
    "    temp=temp//10\n",
    "\n",
    "if(rev_num == num):\n",
    "    print(\"Plaindrome - \", rev_num)\n",
    "else:\n",
    "    print(\"Not Palindrome - \", rev_num)"
   ]
  },
  {
   "cell_type": "code",
   "execution_count": null,
   "id": "ae69d280",
   "metadata": {},
   "outputs": [],
   "source": []
  }
 ],
 "metadata": {
  "kernelspec": {
   "display_name": "Python 3",
   "language": "python",
   "name": "python3"
  },
  "language_info": {
   "codemirror_mode": {
    "name": "ipython",
    "version": 3
   },
   "file_extension": ".py",
   "mimetype": "text/x-python",
   "name": "python",
   "nbconvert_exporter": "python",
   "pygments_lexer": "ipython3",
   "version": "3.8.8"
  }
 },
 "nbformat": 4,
 "nbformat_minor": 5
}
