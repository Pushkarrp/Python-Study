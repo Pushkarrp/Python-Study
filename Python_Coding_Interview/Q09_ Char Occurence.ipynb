{
 "cells": [
  {
   "cell_type": "code",
   "execution_count": 1,
   "id": "343f2b49",
   "metadata": {},
   "outputs": [],
   "source": [
    "# Least Char Occurence"
   ]
  },
  {
   "cell_type": "code",
   "execution_count": null,
   "id": "31d95485",
   "metadata": {},
   "outputs": [],
   "source": []
  },
  {
   "cell_type": "code",
   "execution_count": 2,
   "id": "376b110d",
   "metadata": {},
   "outputs": [
    {
     "data": {
      "text/plain": [
       "Counter({'a': 3, 'b': 2, 'c': 5, 'f': 1, 'd': 2})"
      ]
     },
     "execution_count": 2,
     "metadata": {},
     "output_type": "execute_result"
    }
   ],
   "source": [
    "from collections import Counter\n",
    "\n",
    "s = \"ababacccfccdd\"\n",
    "Counter(s)"
   ]
  },
  {
   "cell_type": "code",
   "execution_count": 3,
   "id": "a46de952",
   "metadata": {},
   "outputs": [
    {
     "name": "stdout",
     "output_type": "stream",
     "text": [
      "f\n"
     ]
    }
   ],
   "source": [
    "s = \"ababacccfccdd\"\n",
    "\n",
    "def get_least_char(s):\n",
    "    dic = Counter(s)\n",
    "    min_val = min(dic.values())\n",
    "    \n",
    "    res = min(dic , key=dic.get)\n",
    "    print(res)\n",
    "        \n",
    "get_least_char(s)"
   ]
  },
  {
   "cell_type": "markdown",
   "id": "3d5cdcd4",
   "metadata": {},
   "source": [
    "__________________"
   ]
  },
  {
   "cell_type": "code",
   "execution_count": 4,
   "id": "4a61b87b",
   "metadata": {},
   "outputs": [],
   "source": [
    "def least_repeat(s):\n",
    "    my_dic = {}\n",
    "    \n",
    "    for ele in s:\n",
    "        if ele in my_dic.keys():\n",
    "            my_dic[ele] = my_dic[ele]+1\n",
    "        else:\n",
    "            my_dic[ele] = 1\n",
    "        \n",
    "    print(my_dic)\n",
    "    res = min(my_dic, key = my_dic.get) \n",
    "    print(res)"
   ]
  },
  {
   "cell_type": "code",
   "execution_count": 5,
   "id": "cb104be9",
   "metadata": {},
   "outputs": [
    {
     "name": "stdout",
     "output_type": "stream",
     "text": [
      "{'a': 3, 'b': 2, 'c': 5, 'f': 1, 'd': 2}\n",
      "f\n"
     ]
    }
   ],
   "source": [
    "least_repeat(s)"
   ]
  },
  {
   "cell_type": "code",
   "execution_count": 6,
   "id": "c913a4b6",
   "metadata": {},
   "outputs": [],
   "source": [
    "d = {'a': 3, 'b': 2, 'c': 5, 'f': 1, 'd': 2}"
   ]
  },
  {
   "cell_type": "code",
   "execution_count": 7,
   "id": "a28c8e55",
   "metadata": {},
   "outputs": [],
   "source": [
    "def least_rep(s):\n",
    "    d = {}\n",
    "    \n",
    "    for el in s:\n",
    "        if el in d.keys():\n",
    "            d[el] = d[el]+1\n",
    "        else:\n",
    "            d[el] = 1\n",
    "        \n",
    "    print(d)\n",
    "    \n",
    "    # Min\n",
    "    min_val = min(d.values())\n",
    "    \n",
    "    for k in d:\n",
    "        if min_val == d[k]:\n",
    "            print(k)"
   ]
  },
  {
   "cell_type": "code",
   "execution_count": 8,
   "id": "79710550",
   "metadata": {},
   "outputs": [
    {
     "name": "stdout",
     "output_type": "stream",
     "text": [
      "{'a': 3, 'b': 2, 'c': 5, 'f': 1, 'd': 2}\n",
      "f\n"
     ]
    }
   ],
   "source": [
    "least_rep(s)"
   ]
  },
  {
   "cell_type": "markdown",
   "id": "2f1cff45",
   "metadata": {},
   "source": [
    "_______________________________"
   ]
  },
  {
   "cell_type": "code",
   "execution_count": 9,
   "id": "a82e9c29",
   "metadata": {},
   "outputs": [],
   "source": [
    "# Particular Char occurence"
   ]
  },
  {
   "cell_type": "code",
   "execution_count": 26,
   "id": "960c505f",
   "metadata": {},
   "outputs": [],
   "source": [
    "def get_char_count(s , ch):\n",
    "    d_count = {}\n",
    "    \n",
    "    for el in s:\n",
    "        if el in d_count.keys():\n",
    "            d_count[el] = d_count[el] +1\n",
    "        else:\n",
    "            d_count[el]=1\n",
    "\n",
    "    print(f\"all char occurence = {d_count}\")\n",
    "    \n",
    "    min_char = min(d_count , key=d_count.get)\n",
    "    print(f\"min char occurence = {min_char}\")\n",
    "    \n",
    "    try:\n",
    "        print(f\"occurence of {ch} = {d_count[ch]}\")\n",
    "    except:\n",
    "        print(f\"occurence of {ch} = 0\")"
   ]
  },
  {
   "cell_type": "code",
   "execution_count": 28,
   "id": "20bbdb96",
   "metadata": {},
   "outputs": [
    {
     "name": "stdout",
     "output_type": "stream",
     "text": [
      "all char occurence = {'a': 3, 'b': 2, 'c': 5, 'f': 1, 'd': 2}\n",
      "min char occurence = f\n",
      "occurence of a = 3\n"
     ]
    }
   ],
   "source": [
    "get_char_count(s , 'a')"
   ]
  },
  {
   "cell_type": "code",
   "execution_count": 29,
   "id": "dd27a86c",
   "metadata": {},
   "outputs": [
    {
     "name": "stdout",
     "output_type": "stream",
     "text": [
      "all char occurence = {'a': 3, 'b': 2, 'c': 5, 'f': 1, 'd': 2}\n",
      "min char occurence = f\n",
      "occurence of z = 0\n"
     ]
    }
   ],
   "source": [
    "get_char_count(s , 'z')"
   ]
  },
  {
   "cell_type": "code",
   "execution_count": null,
   "id": "531383f6",
   "metadata": {},
   "outputs": [],
   "source": []
  },
  {
   "cell_type": "code",
   "execution_count": null,
   "id": "5b7fa88e",
   "metadata": {},
   "outputs": [],
   "source": []
  },
  {
   "cell_type": "markdown",
   "id": "629f1251",
   "metadata": {},
   "source": [
    "___"
   ]
  },
  {
   "cell_type": "code",
   "execution_count": 9,
   "id": "87d030cf",
   "metadata": {},
   "outputs": [
    {
     "name": "stdout",
     "output_type": "stream",
     "text": [
      "f\n",
      "f\n"
     ]
    }
   ],
   "source": [
    "s = \"ababacccfccdd\"\n",
    "key = \"c\"\n",
    "\n",
    "dcounter = {}\n",
    "\n",
    "for el in s:\n",
    "    if el in dcounter:\n",
    "        dcounter[el] =dcounter[el]+1\n",
    "    else:\n",
    "        dcounter[el]=1\n",
    "        \n",
    "#print(dcounter)\n",
    "#print(dcounter[\"c\"])\n",
    "#print(min(dcounter , key = dcounter.get))\n",
    "\n",
    "min_v = min( dcounter.values() )\n",
    "\n",
    "for k, v in dcounter.items():\n",
    "    if v == min_v:\n",
    "        print(k)"
   ]
  },
  {
   "cell_type": "code",
   "execution_count": null,
   "id": "41e4b0cb",
   "metadata": {},
   "outputs": [],
   "source": []
  },
  {
   "cell_type": "code",
   "execution_count": null,
   "id": "c41e6329",
   "metadata": {},
   "outputs": [],
   "source": []
  },
  {
   "cell_type": "code",
   "execution_count": null,
   "id": "8455bb52",
   "metadata": {},
   "outputs": [],
   "source": []
  }
 ],
 "metadata": {
  "kernelspec": {
   "display_name": "Python 3",
   "language": "python",
   "name": "python3"
  },
  "language_info": {
   "codemirror_mode": {
    "name": "ipython",
    "version": 3
   },
   "file_extension": ".py",
   "mimetype": "text/x-python",
   "name": "python",
   "nbconvert_exporter": "python",
   "pygments_lexer": "ipython3",
   "version": "3.8.8"
  }
 },
 "nbformat": 4,
 "nbformat_minor": 5
}
