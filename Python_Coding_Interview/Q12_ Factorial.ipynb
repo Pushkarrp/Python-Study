{
 "cells": [
  {
   "cell_type": "code",
   "execution_count": 3,
   "id": "0fd031e0",
   "metadata": {},
   "outputs": [],
   "source": [
    "def factorial_(n):\n",
    "    facto=1\n",
    "    for x in range (1,n+1):\n",
    "        facto = facto * x\n",
    "    return facto"
   ]
  },
  {
   "cell_type": "code",
   "execution_count": 4,
   "id": "05634423",
   "metadata": {},
   "outputs": [
    {
     "data": {
      "text/plain": [
       "120"
      ]
     },
     "execution_count": 4,
     "metadata": {},
     "output_type": "execute_result"
    }
   ],
   "source": [
    "factorial_(5)"
   ]
  },
  {
   "cell_type": "code",
   "execution_count": 5,
   "id": "656a6119",
   "metadata": {},
   "outputs": [],
   "source": [
    "# 145 = 1! + 4! + 5!"
   ]
  },
  {
   "cell_type": "code",
   "execution_count": 12,
   "id": "82e4deee",
   "metadata": {},
   "outputs": [],
   "source": [
    "def condn(num):\n",
    "    temp = num\n",
    "    sum_=0\n",
    "    \n",
    "    while(temp>0):\n",
    "        dig = temp%10\n",
    "        sum_ = sum_ + factorial_(dig) \n",
    "        temp = int(temp/10)\n",
    "    \n",
    "    if (num == sum_):\n",
    "        return True\n",
    "    else:\n",
    "        return False"
   ]
  },
  {
   "cell_type": "code",
   "execution_count": 14,
   "id": "2c121fcf",
   "metadata": {},
   "outputs": [
    {
     "data": {
      "text/plain": [
       "False"
      ]
     },
     "execution_count": 14,
     "metadata": {},
     "output_type": "execute_result"
    }
   ],
   "source": [
    "condn(125)"
   ]
  },
  {
   "cell_type": "code",
   "execution_count": null,
   "id": "10e636c9",
   "metadata": {},
   "outputs": [],
   "source": []
  },
  {
   "cell_type": "code",
   "execution_count": 2,
   "id": "79d46d52",
   "metadata": {},
   "outputs": [
    {
     "name": "stdout",
     "output_type": "stream",
     "text": [
      "120\n"
     ]
    }
   ],
   "source": [
    "def fctrl(num):\n",
    "    fct =  1\n",
    "    \n",
    "    for x in range(1,num+1):\n",
    "        fct = fct * x\n",
    "    print(fct)\n",
    "    \n",
    "fctrl(5)"
   ]
  },
  {
   "cell_type": "code",
   "execution_count": null,
   "id": "93f760c6",
   "metadata": {},
   "outputs": [],
   "source": []
  }
 ],
 "metadata": {
  "kernelspec": {
   "display_name": "Python 3",
   "language": "python",
   "name": "python3"
  },
  "language_info": {
   "codemirror_mode": {
    "name": "ipython",
    "version": 3
   },
   "file_extension": ".py",
   "mimetype": "text/x-python",
   "name": "python",
   "nbconvert_exporter": "python",
   "pygments_lexer": "ipython3",
   "version": "3.8.8"
  }
 },
 "nbformat": 4,
 "nbformat_minor": 5
}
