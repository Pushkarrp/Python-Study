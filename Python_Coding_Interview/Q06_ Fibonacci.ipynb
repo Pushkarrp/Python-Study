{
 "cells": [
  {
   "cell_type": "code",
   "execution_count": 1,
   "id": "940e54bd",
   "metadata": {},
   "outputs": [],
   "source": [
    "def fibo(n):\n",
    "    a , b = 0 , 1\n",
    "    \n",
    "    print(a)\n",
    "    while(b<n):\n",
    "        print(b)\n",
    "        c = a+b\n",
    "        a = b\n",
    "        b = c"
   ]
  },
  {
   "cell_type": "code",
   "execution_count": 2,
   "id": "84e8f8d3",
   "metadata": {},
   "outputs": [
    {
     "name": "stdout",
     "output_type": "stream",
     "text": [
      "0\n",
      "1\n",
      "1\n",
      "2\n",
      "3\n",
      "5\n",
      "8\n",
      "13\n",
      "21\n",
      "34\n"
     ]
    }
   ],
   "source": [
    "fibo(50)"
   ]
  },
  {
   "cell_type": "code",
   "execution_count": 3,
   "id": "ade12fdc",
   "metadata": {},
   "outputs": [],
   "source": [
    "def fibo2(n):\n",
    "    a,b = 0,1\n",
    "    print(a)\n",
    "    \n",
    "    while(b<n):\n",
    "        print(b)\n",
    "        a , b = b , a+b"
   ]
  },
  {
   "cell_type": "code",
   "execution_count": 4,
   "id": "075694ee",
   "metadata": {},
   "outputs": [
    {
     "name": "stdout",
     "output_type": "stream",
     "text": [
      "0\n",
      "1\n",
      "1\n",
      "2\n",
      "3\n",
      "5\n",
      "8\n",
      "13\n",
      "21\n",
      "34\n"
     ]
    }
   ],
   "source": [
    "fibo2(50)"
   ]
  },
  {
   "cell_type": "code",
   "execution_count": 2,
   "id": "3043a770",
   "metadata": {},
   "outputs": [],
   "source": [
    "def fibon(n):\n",
    "    if n<=1:\n",
    "        return n\n",
    "    else:\n",
    "        return ( fibon(n-1) + fibon(n-2) )"
   ]
  },
  {
   "cell_type": "code",
   "execution_count": 5,
   "id": "d0974db3",
   "metadata": {},
   "outputs": [
    {
     "name": "stdout",
     "output_type": "stream",
     "text": [
      "0\n",
      "1\n",
      "1\n",
      "2\n",
      "3\n"
     ]
    }
   ],
   "source": [
    "for i in range(5):\n",
    "    print( fibon(i) )"
   ]
  },
  {
   "cell_type": "code",
   "execution_count": null,
   "id": "68e8d814",
   "metadata": {},
   "outputs": [],
   "source": []
  },
  {
   "cell_type": "code",
   "execution_count": 7,
   "id": "18d89210",
   "metadata": {},
   "outputs": [
    {
     "name": "stdout",
     "output_type": "stream",
     "text": [
      "0\n",
      "1\n",
      "1\n",
      "2\n",
      "3\n",
      "5\n",
      "8\n",
      "13\n",
      "21\n",
      "34\n"
     ]
    }
   ],
   "source": [
    "n = 50\n",
    "\n",
    "a , b = 0 , 1\n",
    "\n",
    "print(a)\n",
    "\n",
    "while(b<n):\n",
    "    print(b)\n",
    "    c = a + b\n",
    "    a = b\n",
    "    b = c"
   ]
  },
  {
   "cell_type": "code",
   "execution_count": 10,
   "id": "e0101e06",
   "metadata": {},
   "outputs": [
    {
     "name": "stdout",
     "output_type": "stream",
     "text": [
      "0\n",
      "1\n",
      "1\n",
      "2\n",
      "3\n"
     ]
    }
   ],
   "source": [
    "n = 5\n",
    "\n",
    "a , b = 0 , 1\n",
    "\n",
    "print(a)\n",
    "\n",
    "for i in range(n-1):\n",
    "    print(b)\n",
    "    c = a + b\n",
    "    a = b\n",
    "    b = c"
   ]
  },
  {
   "cell_type": "code",
   "execution_count": null,
   "id": "ca10caa2",
   "metadata": {},
   "outputs": [],
   "source": []
  }
 ],
 "metadata": {
  "kernelspec": {
   "display_name": "Python 3",
   "language": "python",
   "name": "python3"
  },
  "language_info": {
   "codemirror_mode": {
    "name": "ipython",
    "version": 3
   },
   "file_extension": ".py",
   "mimetype": "text/x-python",
   "name": "python",
   "nbconvert_exporter": "python",
   "pygments_lexer": "ipython3",
   "version": "3.8.8"
  }
 },
 "nbformat": 4,
 "nbformat_minor": 5
}
