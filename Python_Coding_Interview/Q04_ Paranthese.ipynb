{
 "cells": [
  {
   "cell_type": "code",
   "execution_count": 3,
   "id": "6426ed46",
   "metadata": {},
   "outputs": [],
   "source": [
    "eqn = \"(2+9)-4/3*(28-8))\""
   ]
  },
  {
   "cell_type": "code",
   "execution_count": 4,
   "id": "e3daa6f6",
   "metadata": {},
   "outputs": [
    {
     "name": "stdout",
     "output_type": "stream",
     "text": [
      "NOT Correct\n"
     ]
    }
   ],
   "source": [
    "par = 0\n",
    "\n",
    "for elem in eqn:\n",
    "    if elem == \"(\":\n",
    "        par+=1\n",
    "    elif elem == \")\":\n",
    "        par-=1\n",
    "\n",
    "if(par==0):\n",
    "    print(\"Correct\")\n",
    "else:\n",
    "    print(\"NOT Correct\")"
   ]
  },
  {
   "cell_type": "code",
   "execution_count": null,
   "id": "8087965a",
   "metadata": {},
   "outputs": [],
   "source": []
  }
 ],
 "metadata": {
  "kernelspec": {
   "display_name": "Python 3",
   "language": "python",
   "name": "python3"
  },
  "language_info": {
   "codemirror_mode": {
    "name": "ipython",
    "version": 3
   },
   "file_extension": ".py",
   "mimetype": "text/x-python",
   "name": "python",
   "nbconvert_exporter": "python",
   "pygments_lexer": "ipython3",
   "version": "3.8.8"
  }
 },
 "nbformat": 4,
 "nbformat_minor": 5
}
