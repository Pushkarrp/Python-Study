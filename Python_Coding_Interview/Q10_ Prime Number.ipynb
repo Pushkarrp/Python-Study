{
 "cells": [
  {
   "cell_type": "code",
   "execution_count": 13,
   "id": "d6ed9c3b",
   "metadata": {},
   "outputs": [],
   "source": [
    "# check f a num is prime\n",
    "\n",
    "def check_prime(num):\n",
    "    flag = False\n",
    "    if num==1:\n",
    "        print(\"Neither Prime Nor Composite\")\n",
    "        flag=False\n",
    "        \n",
    "    if num==2:\n",
    "        print(\"Prime\")\n",
    "        flag = True\n",
    "    \n",
    "    for i in range(2, num//(2+1)):\n",
    "        if(num%i)==0:\n",
    "            print(\"Not Prime\")\n",
    "            flag= False\n",
    "            break;\n",
    "        else:\n",
    "            flag=True\n",
    "            \n",
    "    return flag"
   ]
  },
  {
   "cell_type": "code",
   "execution_count": 14,
   "id": "af544db0",
   "metadata": {},
   "outputs": [
    {
     "data": {
      "text/plain": [
       "True"
      ]
     },
     "execution_count": 14,
     "metadata": {},
     "output_type": "execute_result"
    }
   ],
   "source": [
    "check_prime(13)"
   ]
  },
  {
   "cell_type": "code",
   "execution_count": 35,
   "id": "cb566939",
   "metadata": {},
   "outputs": [],
   "source": []
  },
  {
   "cell_type": "code",
   "execution_count": 39,
   "id": "d2dbd3c4",
   "metadata": {},
   "outputs": [],
   "source": [
    "def check_prime(n):\n",
    "    flag = True\n",
    "    if n>1:\n",
    "        for i in range(2 , n):\n",
    "            if n%i == 0:\n",
    "                flag=False\n",
    "                break\n",
    "            else:\n",
    "                flag=True\n",
    "        \n",
    "        if(flag==False):\n",
    "            print(\"Not Prime\")\n",
    "        else:\n",
    "            print(\"Prime\")"
   ]
  },
  {
   "cell_type": "code",
   "execution_count": 41,
   "id": "e90f6638",
   "metadata": {},
   "outputs": [
    {
     "name": "stdout",
     "output_type": "stream",
     "text": [
      "Prime\n"
     ]
    }
   ],
   "source": [
    "check_prime(2)"
   ]
  },
  {
   "cell_type": "code",
   "execution_count": null,
   "id": "0a337e64",
   "metadata": {},
   "outputs": [],
   "source": []
  },
  {
   "cell_type": "code",
   "execution_count": null,
   "id": "3b41c026",
   "metadata": {},
   "outputs": [],
   "source": []
  },
  {
   "cell_type": "code",
   "execution_count": 20,
   "id": "82fc645e",
   "metadata": {},
   "outputs": [
    {
     "name": "stdout",
     "output_type": "stream",
     "text": [
      "Prime\n"
     ]
    }
   ],
   "source": [
    "n = 2\n",
    "\n",
    "flag = True\n",
    "\n",
    "if num > 1:\n",
    "    for x in range(2,num):\n",
    "        if num % x == 0 :\n",
    "            flag=False\n",
    "            break\n",
    "        else:\n",
    "            flag=True\n",
    "\n",
    "    if(flag):\n",
    "        print(\"Prime\")\n",
    "    else:\n",
    "        print(\"Not Prime\")"
   ]
  },
  {
   "cell_type": "code",
   "execution_count": null,
   "id": "0c481ed7",
   "metadata": {},
   "outputs": [],
   "source": []
  },
  {
   "cell_type": "code",
   "execution_count": 33,
   "id": "ee26f8b2",
   "metadata": {},
   "outputs": [
    {
     "name": "stdout",
     "output_type": "stream",
     "text": [
      "3\n",
      "5\n",
      "7\n",
      "11\n",
      "13\n",
      "17\n",
      "19\n"
     ]
    }
   ],
   "source": [
    "lower= 3\n",
    "upper=20\n",
    "\n",
    "# flag = True\n",
    "\n",
    "\n",
    "for num in range(lower,upper+1):\n",
    "    if num>1:\n",
    "        for i in range(2,num):\n",
    "                if (num % i ==0 ) :\n",
    "                    break\n",
    "        else:\n",
    "            print(num)\n",
    "                "
   ]
  },
  {
   "cell_type": "code",
   "execution_count": null,
   "id": "e30cbf58",
   "metadata": {},
   "outputs": [],
   "source": []
  }
 ],
 "metadata": {
  "kernelspec": {
   "display_name": "Python 3",
   "language": "python",
   "name": "python3"
  },
  "language_info": {
   "codemirror_mode": {
    "name": "ipython",
    "version": 3
   },
   "file_extension": ".py",
   "mimetype": "text/x-python",
   "name": "python",
   "nbconvert_exporter": "python",
   "pygments_lexer": "ipython3",
   "version": "3.8.8"
  }
 },
 "nbformat": 4,
 "nbformat_minor": 5
}
