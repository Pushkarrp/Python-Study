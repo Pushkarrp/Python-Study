{
 "cells": [
  {
   "cell_type": "code",
   "execution_count": 1,
   "id": "353294bf",
   "metadata": {},
   "outputs": [],
   "source": [
    "s = \"aabbbcddddee\""
   ]
  },
  {
   "cell_type": "code",
   "execution_count": 2,
   "id": "39f4138b",
   "metadata": {},
   "outputs": [],
   "source": [
    "# OP = a2b3c1d4e2"
   ]
  },
  {
   "cell_type": "code",
   "execution_count": 3,
   "id": "f95ce9ec",
   "metadata": {},
   "outputs": [],
   "source": [
    "count=1\n",
    "ns=\"\"\n",
    "\n",
    "for i in range(len(s)-1):\n",
    "    if(s[i]==s[i+1]):\n",
    "        count+=1\n",
    "    else:\n",
    "        ns = ns + s[i] + str(count)\n",
    "        count=1\n",
    "    \n",
    "ns += s[len(s)-1]+str(count)"
   ]
  },
  {
   "cell_type": "code",
   "execution_count": 4,
   "id": "e041a334",
   "metadata": {},
   "outputs": [
    {
     "data": {
      "text/plain": [
       "'a2b3c1d4e2'"
      ]
     },
     "execution_count": 4,
     "metadata": {},
     "output_type": "execute_result"
    }
   ],
   "source": [
    "ns"
   ]
  },
  {
   "cell_type": "code",
   "execution_count": null,
   "id": "f6f52d28",
   "metadata": {},
   "outputs": [],
   "source": []
  },
  {
   "cell_type": "code",
   "execution_count": null,
   "id": "f765beb6",
   "metadata": {},
   "outputs": [],
   "source": []
  },
  {
   "cell_type": "code",
   "execution_count": 5,
   "id": "2640fa9f",
   "metadata": {},
   "outputs": [],
   "source": [
    "s = \"aabbbcdddeefgggnnnn\"\n",
    "#-----#\n",
    "\n",
    "count=1\n",
    "ns=\"\"\n",
    "n = len(s)\n",
    "\n",
    "for i in range(n-1):\n",
    "    if( s[i]==s[i+1] ):\n",
    "        count+=1\n",
    "    else:\n",
    "        ns = ns + s[i] + str(count)\n",
    "        count=1\n",
    "\n",
    "ns = ns + s[n-1]+ str(count)\n",
    "# print(str(len(s)-1-i))"
   ]
  },
  {
   "cell_type": "code",
   "execution_count": 6,
   "id": "8d207a4e",
   "metadata": {},
   "outputs": [
    {
     "data": {
      "text/plain": [
       "'a2b3c1d3e2f1g3n4'"
      ]
     },
     "execution_count": 6,
     "metadata": {},
     "output_type": "execute_result"
    }
   ],
   "source": [
    "ns"
   ]
  },
  {
   "cell_type": "code",
   "execution_count": null,
   "id": "dfc10d17",
   "metadata": {},
   "outputs": [],
   "source": []
  },
  {
   "cell_type": "code",
   "execution_count": 8,
   "id": "ed2f0c81",
   "metadata": {},
   "outputs": [
    {
     "name": "stdout",
     "output_type": "stream",
     "text": [
      "a2b3c1d3e2f1g3n4\n"
     ]
    }
   ],
   "source": [
    "s = \"aabbbcdddeefgggnnnn\"\n",
    "\n",
    "n = len(s)\n",
    "ns= \"\"\n",
    "count=1\n",
    "\n",
    "for i in range(n-1):\n",
    "    if(s[i] == s[i+1]):\n",
    "        count+=1\n",
    "    else:\n",
    "        ns = ns + s[i] + str(count)\n",
    "        count=1\n",
    "\n",
    "ns = ns + s[n-1] + str(count)\n",
    "\n",
    "print(ns)"
   ]
  },
  {
   "cell_type": "code",
   "execution_count": null,
   "id": "120da507",
   "metadata": {},
   "outputs": [],
   "source": []
  }
 ],
 "metadata": {
  "kernelspec": {
   "display_name": "Python 3",
   "language": "python",
   "name": "python3"
  },
  "language_info": {
   "codemirror_mode": {
    "name": "ipython",
    "version": 3
   },
   "file_extension": ".py",
   "mimetype": "text/x-python",
   "name": "python",
   "nbconvert_exporter": "python",
   "pygments_lexer": "ipython3",
   "version": "3.8.8"
  }
 },
 "nbformat": 4,
 "nbformat_minor": 5
}
