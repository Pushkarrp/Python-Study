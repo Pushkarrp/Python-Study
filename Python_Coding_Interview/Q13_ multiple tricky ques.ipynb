{
 "cells": [
  {
   "cell_type": "code",
   "execution_count": 1,
   "id": "5e02b43e",
   "metadata": {},
   "outputs": [],
   "source": [
    "# get common values from 2 set"
   ]
  },
  {
   "cell_type": "code",
   "execution_count": 2,
   "id": "9346a210",
   "metadata": {},
   "outputs": [
    {
     "data": {
      "text/plain": [
       "{2, 4, 6}"
      ]
     },
     "execution_count": 2,
     "metadata": {},
     "output_type": "execute_result"
    }
   ],
   "source": [
    "s1 = {1,2,3,4,5,6}\n",
    "s2 = {2,4,6,8,12}\n",
    "\n",
    "s1.intersection(s2)"
   ]
  },
  {
   "cell_type": "code",
   "execution_count": 3,
   "id": "117d566f",
   "metadata": {},
   "outputs": [
    {
     "data": {
      "text/plain": [
       "{1, 2, 3, 4, 5, 6, 8, 12}"
      ]
     },
     "execution_count": 3,
     "metadata": {},
     "output_type": "execute_result"
    }
   ],
   "source": [
    "s1.union(s2)"
   ]
  },
  {
   "cell_type": "code",
   "execution_count": 4,
   "id": "215ecbc1",
   "metadata": {},
   "outputs": [
    {
     "data": {
      "text/plain": [
       "{1, 3, 5}"
      ]
     },
     "execution_count": 4,
     "metadata": {},
     "output_type": "execute_result"
    }
   ],
   "source": [
    "s1-s2"
   ]
  },
  {
   "cell_type": "code",
   "execution_count": 5,
   "id": "30f606e5",
   "metadata": {},
   "outputs": [
    {
     "data": {
      "text/plain": [
       "{8, 12}"
      ]
     },
     "execution_count": 5,
     "metadata": {},
     "output_type": "execute_result"
    }
   ],
   "source": [
    "s2-s1"
   ]
  },
  {
   "cell_type": "code",
   "execution_count": null,
   "id": "60991693",
   "metadata": {},
   "outputs": [],
   "source": []
  },
  {
   "cell_type": "code",
   "execution_count": 6,
   "id": "e743465c",
   "metadata": {},
   "outputs": [],
   "source": [
    "# check if number palindrome -"
   ]
  },
  {
   "cell_type": "code",
   "execution_count": 7,
   "id": "82a30ce7",
   "metadata": {},
   "outputs": [],
   "source": [
    "def num_palin(num):\n",
    "    temp = num\n",
    "    rev = 0\n",
    "    \n",
    "    while(temp>=1):\n",
    "        digit = temp%10\n",
    "        rev = rev*10 + digit\n",
    "        temp = temp//10\n",
    "    \n",
    "    if(rev==num):\n",
    "        print(\"Palindrome\")\n",
    "    else:\n",
    "        print(\"Not Palindrome\")"
   ]
  },
  {
   "cell_type": "code",
   "execution_count": 8,
   "id": "728aa615",
   "metadata": {},
   "outputs": [
    {
     "name": "stdout",
     "output_type": "stream",
     "text": [
      "Palindrome\n"
     ]
    }
   ],
   "source": [
    "num_palin(12321)"
   ]
  },
  {
   "cell_type": "code",
   "execution_count": 9,
   "id": "8c0f5576",
   "metadata": {},
   "outputs": [
    {
     "name": "stdout",
     "output_type": "stream",
     "text": [
      "Not Palindrome\n"
     ]
    }
   ],
   "source": [
    "num_palin(1234)"
   ]
  },
  {
   "cell_type": "code",
   "execution_count": null,
   "id": "c7999925",
   "metadata": {},
   "outputs": [],
   "source": []
  },
  {
   "cell_type": "code",
   "execution_count": 10,
   "id": "3d9eb2e6",
   "metadata": {},
   "outputs": [],
   "source": [
    "# string palindrome"
   ]
  },
  {
   "cell_type": "code",
   "execution_count": 11,
   "id": "f1ae069b",
   "metadata": {},
   "outputs": [],
   "source": [
    "def str_palin(s):\n",
    "    rev = s[::-1]\n",
    "    \n",
    "    if(rev==s):\n",
    "        print(\"Palindrome\")\n",
    "    else:\n",
    "        print(\"Not Palindrome\")\n",
    "    "
   ]
  },
  {
   "cell_type": "code",
   "execution_count": 12,
   "id": "49233a9e",
   "metadata": {},
   "outputs": [
    {
     "name": "stdout",
     "output_type": "stream",
     "text": [
      "Palindrome\n"
     ]
    }
   ],
   "source": [
    "str_palin(\"radar\")"
   ]
  },
  {
   "cell_type": "code",
   "execution_count": 13,
   "id": "135fd8b8",
   "metadata": {},
   "outputs": [
    {
     "name": "stdout",
     "output_type": "stream",
     "text": [
      "Not Palindrome\n"
     ]
    }
   ],
   "source": [
    "str_palin(\"radppr\")"
   ]
  },
  {
   "cell_type": "code",
   "execution_count": 14,
   "id": "bfe49ab4",
   "metadata": {},
   "outputs": [],
   "source": [
    "def str_palin2(s):\n",
    "    n = len(s)\n",
    "    flag = True\n",
    "    \n",
    "    for i in range(n):\n",
    "        # print(s[n-1-i],\"\\t\",s[i])\n",
    "        if(s[i]==s[n-1-i]):\n",
    "            flag=True\n",
    "        else:\n",
    "            flag=False\n",
    "            break;\n",
    "            \n",
    "    if flag:\n",
    "        print(\"Palindrome\")\n",
    "    else:\n",
    "        print(\"Not Palindrome\")"
   ]
  },
  {
   "cell_type": "code",
   "execution_count": 15,
   "id": "ad6b4094",
   "metadata": {},
   "outputs": [
    {
     "name": "stdout",
     "output_type": "stream",
     "text": [
      "Not Palindrome\n"
     ]
    }
   ],
   "source": [
    "str_palin2(\"radpar\")"
   ]
  },
  {
   "cell_type": "code",
   "execution_count": null,
   "id": "53730c73",
   "metadata": {},
   "outputs": [],
   "source": []
  },
  {
   "cell_type": "code",
   "execution_count": 16,
   "id": "f771de34",
   "metadata": {},
   "outputs": [],
   "source": [
    "# Pattern Printing"
   ]
  },
  {
   "cell_type": "code",
   "execution_count": 17,
   "id": "e4ec00ff",
   "metadata": {},
   "outputs": [
    {
     "name": "stdout",
     "output_type": "stream",
     "text": [
      "1 \n",
      "\n",
      "2 2 \n",
      "\n",
      "3 3 3 \n",
      "\n",
      "4 4 4 4 \n",
      "\n",
      "5 5 5 5 5 \n",
      "\n"
     ]
    }
   ],
   "source": [
    "for i in range(1,6): # 1 to 5\n",
    "    for j in range(1,i+1): # 1 to 5\n",
    "        print(i , end=\" \")\n",
    "    print(\"\\n\")"
   ]
  },
  {
   "cell_type": "code",
   "execution_count": null,
   "id": "6d1d8348",
   "metadata": {},
   "outputs": [],
   "source": []
  },
  {
   "cell_type": "code",
   "execution_count": 18,
   "id": "f3d74db5",
   "metadata": {},
   "outputs": [
    {
     "name": "stdout",
     "output_type": "stream",
     "text": [
      "# \n",
      "\n",
      "# # \n",
      "\n",
      "# # # \n",
      "\n",
      "# # # # \n",
      "\n",
      "# # # # # \n",
      "\n"
     ]
    }
   ],
   "source": [
    "for i in range(1,6): # i = 1 to 5\n",
    "    for j in range(1, i+1): # 1 to i\n",
    "        print(\"#\" , end=\" \")\n",
    "    print(\"\\n\")"
   ]
  },
  {
   "cell_type": "code",
   "execution_count": 19,
   "id": "44e9a223",
   "metadata": {},
   "outputs": [
    {
     "name": "stdout",
     "output_type": "stream",
     "text": [
      "1 \n",
      "\n",
      "2 2 \n",
      "\n",
      "3 3 3 \n",
      "\n",
      "4 4 4 4 \n",
      "\n"
     ]
    }
   ],
   "source": [
    "def pattern1(n):\n",
    "    for i in range(1, n+1):\n",
    "        for j in range(1, i+1):\n",
    "            print(i , end=\" \")\n",
    "        print(\"\\n\")\n",
    "        \n",
    "pattern1(4)"
   ]
  },
  {
   "cell_type": "code",
   "execution_count": 20,
   "id": "727b0921",
   "metadata": {},
   "outputs": [
    {
     "name": "stdout",
     "output_type": "stream",
     "text": [
      "0 \n",
      "\n",
      "0 1 \n",
      "\n",
      "0 1 2 \n",
      "\n",
      "0 1 2 3 \n",
      "\n",
      "0 1 2 3 4 \n",
      "\n"
     ]
    }
   ],
   "source": [
    "def pattern2(n):\n",
    "    for i in range(0,n+1): # i from 0 to n\n",
    "        for j in range(0, i+1): # j from 0 to i\n",
    "            print(j , end=\" \")\n",
    "        print(\"\\n\")\n",
    "        \n",
    "pattern2(4)"
   ]
  },
  {
   "cell_type": "code",
   "execution_count": 21,
   "id": "03944529",
   "metadata": {},
   "outputs": [
    {
     "name": "stdout",
     "output_type": "stream",
     "text": [
      "A \n",
      "\n",
      "B B \n",
      "\n",
      "C C C \n",
      "\n",
      "D D D D \n",
      "\n"
     ]
    }
   ],
   "source": [
    "for i in range(1,4+1): # 1 to 4\n",
    "    alpha = ord(\"A\")-1 # alpha = 65\n",
    "    \n",
    "    for j in range(1,i+1): # 1 to i\n",
    "        print(chr(alpha+i) , end=\" \")\n",
    "    print(\"\\n\")"
   ]
  },
  {
   "cell_type": "code",
   "execution_count": 22,
   "id": "d40ce904",
   "metadata": {},
   "outputs": [
    {
     "name": "stdout",
     "output_type": "stream",
     "text": [
      "A \n",
      "\n",
      "B B \n",
      "\n",
      "C C C \n",
      "\n",
      "D D D D \n",
      "\n"
     ]
    }
   ],
   "source": [
    "def alpha_pattern(n):\n",
    "    s_al = ord(\"A\")    \n",
    "    for i in range(0,n):\n",
    "        for j in range(0,i+1):\n",
    "            print(chr(i+s_al) , end=\" \")\n",
    "        print(\"\\n\")\n",
    "    \n",
    "alpha_pattern(4)"
   ]
  },
  {
   "cell_type": "code",
   "execution_count": null,
   "id": "8deb370d",
   "metadata": {},
   "outputs": [],
   "source": []
  },
  {
   "cell_type": "code",
   "execution_count": 23,
   "id": "6a59fbcd",
   "metadata": {},
   "outputs": [
    {
     "name": "stdout",
     "output_type": "stream",
     "text": [
      "A \n",
      "\n",
      "B C \n",
      "\n",
      "D E F \n",
      "\n"
     ]
    }
   ],
   "source": [
    "n = 3\n",
    "x = 0\n",
    "A_ascii = ord(\"A\")\n",
    "\n",
    "for i in range(0,n):\n",
    "    for j in range(0,i+1):\n",
    "        print(chr(A_ascii + x) , end=\" \")\n",
    "        x=x+1\n",
    "    print(\"\\n\")"
   ]
  },
  {
   "cell_type": "code",
   "execution_count": 24,
   "id": "c199f122",
   "metadata": {},
   "outputs": [
    {
     "name": "stdout",
     "output_type": "stream",
     "text": [
      "A \n",
      "\n",
      "B C \n",
      "\n",
      "D E F \n",
      "\n",
      "G H I J \n",
      "\n"
     ]
    }
   ],
   "source": [
    "def alpha_pttern2(n):\n",
    "    x = 0\n",
    "    A_ascii = ord(\"A\")\n",
    "\n",
    "    for i in range(0,n):\n",
    "        for j in range(0,i+1):\n",
    "            print(chr(A_ascii + x) , end=\" \")\n",
    "            x=x+1\n",
    "        print(\"\\n\")   \n",
    "        \n",
    "alpha_pttern2(4)"
   ]
  },
  {
   "cell_type": "code",
   "execution_count": null,
   "id": "c7f4cf7a",
   "metadata": {},
   "outputs": [],
   "source": []
  },
  {
   "cell_type": "code",
   "execution_count": 25,
   "id": "e5b56504",
   "metadata": {},
   "outputs": [
    {
     "name": "stdout",
     "output_type": "stream",
     "text": [
      "dict_values([110, 120, 130])\n"
     ]
    }
   ],
   "source": [
    "# increment values of all the keys\n",
    "\n",
    "d1 = {\"k1\":10 , \"k2\":20 , \"k3\":30}\n",
    "\n",
    "for k in d1.keys():\n",
    "    d1[k] = d1[k]+100\n",
    "    \n",
    "print(d1.values())"
   ]
  },
  {
   "cell_type": "code",
   "execution_count": null,
   "id": "5682081b",
   "metadata": {},
   "outputs": [],
   "source": []
  },
  {
   "cell_type": "code",
   "execution_count": 26,
   "id": "d0300f9a",
   "metadata": {},
   "outputs": [
    {
     "name": "stdout",
     "output_type": "stream",
     "text": [
      "0.04042484837170057\n"
     ]
    }
   ],
   "source": [
    "import random\n",
    "\n",
    "# creates a random value from [0,1)\n",
    "n = random.random()\n",
    "print(n)"
   ]
  },
  {
   "cell_type": "code",
   "execution_count": 27,
   "id": "9da99990",
   "metadata": {},
   "outputs": [
    {
     "name": "stdout",
     "output_type": "stream",
     "text": [
      "14\n"
     ]
    }
   ],
   "source": [
    "import random\n",
    "\n",
    "# creates a random value from [a,b]\n",
    "n = random.randint(10,20)\n",
    "print(n)"
   ]
  },
  {
   "cell_type": "code",
   "execution_count": null,
   "id": "a23c8866",
   "metadata": {},
   "outputs": [],
   "source": []
  },
  {
   "cell_type": "code",
   "execution_count": 28,
   "id": "a37ef772",
   "metadata": {},
   "outputs": [],
   "source": [
    "# numpy random array"
   ]
  },
  {
   "cell_type": "code",
   "execution_count": 29,
   "id": "be6fd686",
   "metadata": {},
   "outputs": [],
   "source": [
    "from numpy import random"
   ]
  },
  {
   "cell_type": "code",
   "execution_count": 30,
   "id": "dcad4db0",
   "metadata": {},
   "outputs": [
    {
     "data": {
      "text/plain": [
       "array([0.96298558, 0.39506991, 0.20218431, 0.5671567 , 0.8622591 ])"
      ]
     },
     "execution_count": 30,
     "metadata": {},
     "output_type": "execute_result"
    }
   ],
   "source": [
    "ar1 = random.random(size=5)\n",
    "\n",
    "ar1"
   ]
  },
  {
   "cell_type": "code",
   "execution_count": null,
   "id": "aa3e27ce",
   "metadata": {},
   "outputs": [],
   "source": []
  },
  {
   "cell_type": "code",
   "execution_count": 31,
   "id": "1f943d12",
   "metadata": {},
   "outputs": [
    {
     "data": {
      "text/plain": [
       "array([28, 18, 24, 20])"
      ]
     },
     "execution_count": 31,
     "metadata": {},
     "output_type": "execute_result"
    }
   ],
   "source": [
    "ar2 = random.randint(10,40, size=4)\n",
    "\n",
    "ar2"
   ]
  },
  {
   "cell_type": "code",
   "execution_count": null,
   "id": "05a597ad",
   "metadata": {},
   "outputs": [],
   "source": []
  },
  {
   "cell_type": "code",
   "execution_count": 32,
   "id": "cfa87265",
   "metadata": {},
   "outputs": [
    {
     "data": {
      "text/plain": [
       "array([[39, 15, 22],\n",
       "       [30, 22, 32]])"
      ]
     },
     "execution_count": 32,
     "metadata": {},
     "output_type": "execute_result"
    }
   ],
   "source": [
    "ar3 = random.randint(low=10 ,  high=40, size=(2,3))\n",
    "\n",
    "ar3"
   ]
  },
  {
   "cell_type": "code",
   "execution_count": null,
   "id": "68d42ae1",
   "metadata": {},
   "outputs": [],
   "source": []
  },
  {
   "cell_type": "code",
   "execution_count": 33,
   "id": "2783e58c",
   "metadata": {},
   "outputs": [
    {
     "data": {
      "text/plain": [
       "44"
      ]
     },
     "execution_count": 33,
     "metadata": {},
     "output_type": "execute_result"
    }
   ],
   "source": [
    "r1 = random.randint(low=10 , high=50)\n",
    "\n",
    "r1"
   ]
  },
  {
   "cell_type": "code",
   "execution_count": 34,
   "id": "81752492",
   "metadata": {},
   "outputs": [
    {
     "data": {
      "text/plain": [
       "0.6306398240636857"
      ]
     },
     "execution_count": 34,
     "metadata": {},
     "output_type": "execute_result"
    }
   ],
   "source": [
    "r2 = random.rand()\n",
    "\n",
    "r2"
   ]
  },
  {
   "cell_type": "code",
   "execution_count": null,
   "id": "9923e3ac",
   "metadata": {},
   "outputs": [],
   "source": []
  },
  {
   "cell_type": "code",
   "execution_count": 35,
   "id": "669b7ecc",
   "metadata": {},
   "outputs": [
    {
     "name": "stdout",
     "output_type": "stream",
     "text": [
      "12\n",
      "30\n"
     ]
    }
   ],
   "source": [
    "# example of *args :-\n",
    "\n",
    "def summation(*args):\n",
    "    res = 0\n",
    "    \n",
    "    #print(args)\n",
    "    #print(type(args))\n",
    "    \n",
    "    for x in args:\n",
    "        res = res+x\n",
    "    \n",
    "    print(res)\n",
    "\n",
    "# way 1 -\n",
    "summation(2,4,6)\n",
    "\n",
    "# way 2 -\n",
    "nums_list = [5,10,15]\n",
    "summation(*nums_list)"
   ]
  },
  {
   "cell_type": "code",
   "execution_count": 36,
   "id": "f4675ca7",
   "metadata": {},
   "outputs": [
    {
     "name": "stdout",
     "output_type": "stream",
     "text": [
      "hello world hi there \n",
      "\n",
      "bye world see you again "
     ]
    }
   ],
   "source": [
    "def print_args(*args):\n",
    "    for val in args:\n",
    "        print(val , end=\" \")\n",
    "        \n",
    "# way 1 -\n",
    "print_args(\"hello\",\"world\",\"hi\",\"there\")\n",
    "print(\"\\n\")\n",
    "\n",
    "# way 2 -\n",
    "s_list = [\"bye\",\"world\",\"see you\",\"again\"]\n",
    "print_args(*s_list)"
   ]
  },
  {
   "cell_type": "code",
   "execution_count": null,
   "id": "2081a55a",
   "metadata": {},
   "outputs": [],
   "source": []
  },
  {
   "cell_type": "code",
   "execution_count": 37,
   "id": "9e8f243f",
   "metadata": {},
   "outputs": [
    {
     "name": "stdout",
     "output_type": "stream",
     "text": [
      "first_name is Kamaru\n",
      "last_name is Usman\n",
      "\n",
      "\n",
      "first_name is Charles\n",
      "last_name is Oliviera\n",
      "weight_class is Light-weight\n"
     ]
    }
   ],
   "source": [
    "# example of **kwargs -\n",
    "\n",
    "def print_details(**details):\n",
    "    \n",
    "    for key,value in details.items():\n",
    "        print(f\"{key} is {value}\")\n",
    "        \n",
    "# way 1 -\n",
    "print_details(first_name=\"Kamaru\", last_name=\"Usman\")\n",
    "\n",
    "print(\"\\n\")\n",
    "\n",
    "# way 2 -\n",
    "dets = {\"first_name\" : \"Charles\" , \"last_name\" : \"Oliviera\" , \"weight_class\" : \"Light-weight\"}\n",
    "print_details(**dets)"
   ]
  },
  {
   "cell_type": "code",
   "execution_count": null,
   "id": "9881ce67",
   "metadata": {},
   "outputs": [],
   "source": []
  },
  {
   "cell_type": "code",
   "execution_count": 38,
   "id": "dfb170da",
   "metadata": {},
   "outputs": [
    {
     "name": "stdout",
     "output_type": "stream",
     "text": [
      "Inside Function -  Hello World ~~ new  changes\n",
      "Outside Function -  Hello World\n"
     ]
    }
   ],
   "source": [
    "# call by value -\n",
    "\n",
    "def change_string(s):\n",
    "    s = s + \" ~~ new  changes\"\n",
    "    print(\"Inside Function - \",s)\n",
    "    \n",
    "s = \"Hello World\"\n",
    "change_string(s)\n",
    "print(\"Outside Function - \",s)"
   ]
  },
  {
   "cell_type": "code",
   "execution_count": 39,
   "id": "eba2f0b3",
   "metadata": {},
   "outputs": [
    {
     "name": "stdout",
     "output_type": "stream",
     "text": [
      "Inside Function -  [1, 2, 3, 4, 999, 'NEW VALUE']\n",
      "Outside Function -  [1, 2, 3, 4, 999, 'NEW VALUE']\n"
     ]
    }
   ],
   "source": [
    "# call by reference -\n",
    "\n",
    "def change_list(l):\n",
    "    l.append(999)\n",
    "    l.append(\"NEW VALUE\")\n",
    "    \n",
    "    print(\"Inside Function - \", l)\n",
    "\n",
    "l = [1,2,3,4]\n",
    "change_list(l)\n",
    "print(\"Outside Function - \", l)"
   ]
  },
  {
   "cell_type": "code",
   "execution_count": null,
   "id": "daba72bf",
   "metadata": {},
   "outputs": [],
   "source": []
  },
  {
   "cell_type": "code",
   "execution_count": 40,
   "id": "d7b03591",
   "metadata": {},
   "outputs": [
    {
     "data": {
      "text/plain": [
       "[1, 2, 3, 1, 2, 3]"
      ]
     },
     "execution_count": 40,
     "metadata": {},
     "output_type": "execute_result"
    }
   ],
   "source": [
    "nums = [1,2,3]\n",
    "\n",
    "nums*2"
   ]
  },
  {
   "cell_type": "code",
   "execution_count": null,
   "id": "71bbb38c",
   "metadata": {},
   "outputs": [],
   "source": []
  },
  {
   "cell_type": "code",
   "execution_count": 41,
   "id": "93c1e2a9",
   "metadata": {},
   "outputs": [],
   "source": [
    "# armstrong number -\n",
    "\n",
    "def arm_strong(num):\n",
    "    temp = num\n",
    "    arm = 0\n",
    "    \n",
    "    while(temp>=1):\n",
    "        digit = temp%10\n",
    "        arm = arm + digit**3\n",
    "        temp = temp//10\n",
    "    \n",
    "    if(arm == num):\n",
    "        print(\"Armstrong\")\n",
    "    else:\n",
    "        print(\"Not Armstrong\")"
   ]
  },
  {
   "cell_type": "code",
   "execution_count": 42,
   "id": "a9784f17",
   "metadata": {},
   "outputs": [
    {
     "name": "stdout",
     "output_type": "stream",
     "text": [
      "Not Armstrong\n"
     ]
    }
   ],
   "source": [
    "arm_strong(477)"
   ]
  },
  {
   "cell_type": "code",
   "execution_count": 43,
   "id": "eb7d09d6",
   "metadata": {},
   "outputs": [],
   "source": [
    "def armstrong_till(n):\n",
    "    for num in range(1,n):\n",
    "        temp = num\n",
    "        arm = 0\n",
    "        while(temp>=1):\n",
    "            digit = temp%10\n",
    "            arm = arm + digit**3\n",
    "            temp = temp//10\n",
    "    \n",
    "        if(arm == num):\n",
    "            print(\"Armstrong - \", arm)"
   ]
  },
  {
   "cell_type": "code",
   "execution_count": 44,
   "id": "3d964b3e",
   "metadata": {},
   "outputs": [
    {
     "name": "stdout",
     "output_type": "stream",
     "text": [
      "Armstrong -  1\n",
      "Armstrong -  153\n",
      "Armstrong -  370\n",
      "Armstrong -  371\n",
      "Armstrong -  407\n"
     ]
    }
   ],
   "source": [
    "armstrong_till(500)"
   ]
  },
  {
   "cell_type": "code",
   "execution_count": 45,
   "id": "acf14b66",
   "metadata": {},
   "outputs": [],
   "source": [
    "# armstrong number -\n",
    "\n",
    "def arm_strong_2(num):\n",
    "    temp = num\n",
    "    arm = 0\n",
    "    \n",
    "    while(temp>=1):\n",
    "        digit = temp%10\n",
    "        arm = arm + digit**3\n",
    "        temp = temp//10\n",
    "    \n",
    "    if(arm == num):\n",
    "        return True\n",
    "    else:\n",
    "        return False\n",
    "        \n",
    "\n",
    "def first_m_arm(m):\n",
    "    count = 0\n",
    "    i=1\n",
    "    while True:\n",
    "        if arm_strong_2(i) :\n",
    "            print(i)\n",
    "            count +=1\n",
    "        i = i + 1\n",
    "        \n",
    "        if(count==m):\n",
    "            break"
   ]
  },
  {
   "cell_type": "code",
   "execution_count": 46,
   "id": "47883865",
   "metadata": {},
   "outputs": [
    {
     "name": "stdout",
     "output_type": "stream",
     "text": [
      "1\n",
      "153\n",
      "370\n",
      "371\n",
      "407\n"
     ]
    }
   ],
   "source": [
    "first_m_arm(5)"
   ]
  },
  {
   "cell_type": "code",
   "execution_count": null,
   "id": "383dc2ba",
   "metadata": {},
   "outputs": [],
   "source": []
  },
  {
   "cell_type": "code",
   "execution_count": 47,
   "id": "7e413f07",
   "metadata": {},
   "outputs": [],
   "source": [
    "# perfect number - 6, 28 etc"
   ]
  },
  {
   "cell_type": "code",
   "execution_count": 48,
   "id": "6fd860a2",
   "metadata": {},
   "outputs": [
    {
     "name": "stdout",
     "output_type": "stream",
     "text": [
      "Not Perfect\n"
     ]
    }
   ],
   "source": [
    "def perf_num(num):\n",
    "    addn = 0\n",
    "    for i in range (1, (num//2) + 1):\n",
    "        if num%i==0:\n",
    "            addn = addn+i\n",
    "    # for ends\n",
    "    \n",
    "    if (num == addn):\n",
    "        print(\"perfect Number\")\n",
    "    else:\n",
    "        print(\"Not Perfect\")\n",
    "        \n",
    "perf_num(61)"
   ]
  },
  {
   "cell_type": "code",
   "execution_count": null,
   "id": "f63f67fd",
   "metadata": {},
   "outputs": [],
   "source": []
  },
  {
   "cell_type": "code",
   "execution_count": 49,
   "id": "eb8f2436",
   "metadata": {},
   "outputs": [],
   "source": [
    "# strong number \n",
    "# 145 = 1! + 4! + 5!"
   ]
  },
  {
   "cell_type": "code",
   "execution_count": 50,
   "id": "f8be3324",
   "metadata": {},
   "outputs": [
    {
     "name": "stdout",
     "output_type": "stream",
     "text": [
      "Strong\n"
     ]
    }
   ],
   "source": [
    "def fctrl(num):\n",
    "    if num<=1:\n",
    "        return 1\n",
    "    else: \n",
    "        return num * fctrl(num-1)\n",
    "\n",
    "def strong_num(num):\n",
    "    temp = num\n",
    "    strong = 0\n",
    "    \n",
    "    while(temp>=1):\n",
    "        dig = temp%10\n",
    "        strong = strong + fctrl(dig)\n",
    "        temp = temp//10\n",
    "    \n",
    "    if(strong==num):\n",
    "        print(\"Strong\")\n",
    "    else:\n",
    "        print(\"Not Strong\")\n",
    "    \n",
    "strong_num(145)"
   ]
  },
  {
   "cell_type": "code",
   "execution_count": null,
   "id": "b939577e",
   "metadata": {},
   "outputs": [],
   "source": []
  },
  {
   "cell_type": "code",
   "execution_count": 51,
   "id": "098a5731",
   "metadata": {},
   "outputs": [
    {
     "name": "stdout",
     "output_type": "stream",
     "text": [
      "Enter the size of list : 1\n",
      "Enter element 1 : 1\n",
      "[1]\n"
     ]
    },
    {
     "ename": "IndexError",
     "evalue": "list index out of range",
     "output_type": "error",
     "traceback": [
      "\u001b[1;31m---------------------------------------------------------------------\u001b[0m",
      "\u001b[1;31mIndexError\u001b[0m                          Traceback (most recent call last)",
      "\u001b[1;32m<ipython-input-51-cf19ea0b5b22>\u001b[0m in \u001b[0;36m<module>\u001b[1;34m\u001b[0m\n\u001b[0;32m     11\u001b[0m \u001b[0msample\u001b[0m\u001b[1;33m.\u001b[0m\u001b[0msort\u001b[0m\u001b[1;33m(\u001b[0m\u001b[0mreverse\u001b[0m\u001b[1;33m=\u001b[0m\u001b[1;32mTrue\u001b[0m\u001b[1;33m)\u001b[0m\u001b[1;33m\u001b[0m\u001b[1;33m\u001b[0m\u001b[0m\n\u001b[0;32m     12\u001b[0m \u001b[0mprint\u001b[0m\u001b[1;33m(\u001b[0m\u001b[0msample\u001b[0m\u001b[1;33m)\u001b[0m\u001b[1;33m\u001b[0m\u001b[1;33m\u001b[0m\u001b[0m\n\u001b[1;32m---> 13\u001b[1;33m \u001b[0mprint\u001b[0m\u001b[1;33m(\u001b[0m\u001b[1;34mf'Second Max = {sample[1]}'\u001b[0m\u001b[1;33m)\u001b[0m\u001b[1;33m\u001b[0m\u001b[1;33m\u001b[0m\u001b[0m\n\u001b[0m",
      "\u001b[1;31mIndexError\u001b[0m: list index out of range"
     ]
    }
   ],
   "source": [
    "# 2nd max num from list\n",
    "\n",
    "size = int( input(\"Enter the size of list : \") )\n",
    "\n",
    "sample = []\n",
    "\n",
    "for i in range(size):\n",
    "    el = int( input(f'Enter element {i+1} : ') )\n",
    "    sample.append(el)\n",
    "\n",
    "sample.sort(reverse=True)\n",
    "print(sample)\n",
    "print(f'Second Max = {sample[1]}')"
   ]
  },
  {
   "cell_type": "code",
   "execution_count": null,
   "id": "5a38f8d2",
   "metadata": {},
   "outputs": [],
   "source": []
  },
  {
   "cell_type": "code",
   "execution_count": 52,
   "id": "05ae0550",
   "metadata": {},
   "outputs": [
    {
     "name": "stdout",
     "output_type": "stream",
     "text": [
      "[5, 2, 3, 4, 1]\n"
     ]
    }
   ],
   "source": [
    "def swap_logic(nums):\n",
    "    size = len(nums)\n",
    "    \n",
    "    temp = nums[0]\n",
    "    nums[0] = nums[size-1]\n",
    "    nums[size-1] = temp\n",
    "\n",
    "nums = [1,2,3,4,5]\n",
    "swap_logic(nums)\n",
    "print(nums)"
   ]
  },
  {
   "cell_type": "code",
   "execution_count": null,
   "id": "8511ec26",
   "metadata": {},
   "outputs": [],
   "source": []
  },
  {
   "cell_type": "code",
   "execution_count": 53,
   "id": "950bae7d",
   "metadata": {},
   "outputs": [],
   "source": [
    "# num of vowels in a string -"
   ]
  },
  {
   "cell_type": "code",
   "execution_count": 54,
   "id": "f16b4a08",
   "metadata": {},
   "outputs": [
    {
     "name": "stdout",
     "output_type": "stream",
     "text": [
      "3\n"
     ]
    }
   ],
   "source": [
    "vowels = \"a e i o u\".split(\" \")\n",
    "\n",
    "inp_str = \"Orange\"\n",
    "\n",
    "vow_list = [x for x in inp_str.lower() if x in vowels]\n",
    "\n",
    "print(len( vow_list) )"
   ]
  },
  {
   "cell_type": "code",
   "execution_count": 55,
   "id": "dc2ab6f6",
   "metadata": {},
   "outputs": [
    {
     "name": "stdout",
     "output_type": "stream",
     "text": [
      "2\n"
     ]
    }
   ],
   "source": [
    "vowels = \"a e i o u\".split(\" \")\n",
    "inp_str = \"Orange\"\n",
    "new_list = []\n",
    "\n",
    "for el in inp_str:\n",
    "    if el in vowels:\n",
    "        new_list.append(el)\n",
    "        \n",
    "print(len( new_list) )"
   ]
  },
  {
   "cell_type": "code",
   "execution_count": null,
   "id": "4191d407",
   "metadata": {},
   "outputs": [],
   "source": []
  },
  {
   "cell_type": "code",
   "execution_count": 56,
   "id": "8b99cd64",
   "metadata": {},
   "outputs": [
    {
     "data": {
      "text/plain": [
       "[1, 2, 3, 4, 6, 7]"
      ]
     },
     "execution_count": 56,
     "metadata": {},
     "output_type": "execute_result"
    }
   ],
   "source": [
    "inp_list = [1,2,2,3,4,4,6,7]\n",
    "res = []\n",
    "\n",
    "for el in inp_list:\n",
    "    if el not in res:\n",
    "        res.append(el)\n",
    "\n",
    "res"
   ]
  },
  {
   "cell_type": "code",
   "execution_count": null,
   "id": "7fc012f9",
   "metadata": {},
   "outputs": [],
   "source": []
  },
  {
   "cell_type": "code",
   "execution_count": 60,
   "id": "d5fc2a2b",
   "metadata": {},
   "outputs": [
    {
     "name": "stdout",
     "output_type": "stream",
     "text": [
      "Enter Numerator : 2\n",
      "Input Divisor :1\n",
      "2.0\n",
      "No exception occured\n",
      "executed regardless\n"
     ]
    }
   ],
   "source": [
    "# exception handling\n",
    "\n",
    "try:\n",
    "    num = int( input(\"Enter Numerator : \") )\n",
    "    div = int ( input(\"Input Divisor :\") )\n",
    "    \n",
    "    print(num/div)\n",
    "except ex:\n",
    "    print(\"Exception occured - \", ex)\n",
    "else: \n",
    "    print(\"No exception occured\")\n",
    "finally:\n",
    "    print(\"executed regardless\")"
   ]
  },
  {
   "cell_type": "code",
   "execution_count": null,
   "id": "3713c005",
   "metadata": {},
   "outputs": [],
   "source": []
  },
  {
   "cell_type": "code",
   "execution_count": null,
   "id": "fc089f3c",
   "metadata": {},
   "outputs": [],
   "source": []
  },
  {
   "cell_type": "code",
   "execution_count": null,
   "id": "7f0e7540",
   "metadata": {},
   "outputs": [],
   "source": []
  },
  {
   "cell_type": "code",
   "execution_count": null,
   "id": "4a71a91b",
   "metadata": {},
   "outputs": [],
   "source": []
  },
  {
   "cell_type": "code",
   "execution_count": null,
   "id": "af262c2b",
   "metadata": {},
   "outputs": [],
   "source": []
  },
  {
   "cell_type": "code",
   "execution_count": null,
   "id": "6cfaa744",
   "metadata": {},
   "outputs": [],
   "source": []
  },
  {
   "cell_type": "code",
   "execution_count": null,
   "id": "2d85e590",
   "metadata": {},
   "outputs": [],
   "source": []
  },
  {
   "cell_type": "code",
   "execution_count": null,
   "id": "ac32910d",
   "metadata": {},
   "outputs": [],
   "source": []
  }
 ],
 "metadata": {
  "kernelspec": {
   "display_name": "Python 3",
   "language": "python",
   "name": "python3"
  },
  "language_info": {
   "codemirror_mode": {
    "name": "ipython",
    "version": 3
   },
   "file_extension": ".py",
   "mimetype": "text/x-python",
   "name": "python",
   "nbconvert_exporter": "python",
   "pygments_lexer": "ipython3",
   "version": "3.8.8"
  }
 },
 "nbformat": 4,
 "nbformat_minor": 5
}
