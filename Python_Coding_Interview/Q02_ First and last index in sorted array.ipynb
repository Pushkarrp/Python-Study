{
 "cells": [
  {
   "cell_type": "code",
   "execution_count": 1,
   "id": "146f4e76",
   "metadata": {},
   "outputs": [],
   "source": [
    "arr = [2,4,5,5,5,5,5,7,9,9]\n",
    "\n",
    "target = 5"
   ]
  },
  {
   "cell_type": "code",
   "execution_count": 2,
   "id": "8eece958",
   "metadata": {},
   "outputs": [],
   "source": [
    "def first_last_posn(arr, target):\n",
    "    first_posn, last_posn = [-1,-1]\n",
    "    \n",
    "    first_posn = arr.index(target)\n",
    "    \n",
    "    for elem in arr:\n",
    "        if elem > target:\n",
    "            last_posn = arr.index(elem) -1\n",
    "            break;\n",
    "    return [first_posn , last_posn]     "
   ]
  },
  {
   "cell_type": "code",
   "execution_count": 3,
   "id": "a237c456",
   "metadata": {},
   "outputs": [
    {
     "data": {
      "text/plain": [
       "[2, 6]"
      ]
     },
     "execution_count": 3,
     "metadata": {},
     "output_type": "execute_result"
    }
   ],
   "source": [
    "first_last_posn(arr, target)"
   ]
  },
  {
   "cell_type": "markdown",
   "id": "2ea9d730",
   "metadata": {},
   "source": [
    "___________________________"
   ]
  },
  {
   "cell_type": "code",
   "execution_count": 4,
   "id": "e97512c5",
   "metadata": {},
   "outputs": [],
   "source": [
    "def f_l_posn(arr, target):\n",
    "    first, last = [-1,-1]\n",
    "    idx_list = []\n",
    "    \n",
    "    for i in range(len(arr)):\n",
    "        if arr[i] == target:\n",
    "            idx_list.append(i)\n",
    "    \n",
    "    idx_list.sort()\n",
    "    \n",
    "    return [ idx_list[0] , idx_list[-1] ]"
   ]
  },
  {
   "cell_type": "code",
   "execution_count": 5,
   "id": "cde79a4b",
   "metadata": {},
   "outputs": [
    {
     "data": {
      "text/plain": [
       "[2, 10]"
      ]
     },
     "execution_count": 5,
     "metadata": {},
     "output_type": "execute_result"
    }
   ],
   "source": [
    "f_l_posn(arr,target)"
   ]
  },
  {
   "cell_type": "code",
   "execution_count": null,
   "id": "81d040d9",
   "metadata": {},
   "outputs": [],
   "source": []
  },
  {
   "cell_type": "markdown",
   "id": "9e2b0254",
   "metadata": {},
   "source": [
    "_________________________________"
   ]
  },
  {
   "cell_type": "code",
   "execution_count": 5,
   "id": "aae8b93f",
   "metadata": {},
   "outputs": [],
   "source": [
    "arr = [2,4,5,5,7,7,7,7,9]\n",
    "\n",
    "target = 7"
   ]
  },
  {
   "cell_type": "code",
   "execution_count": 9,
   "id": "f1b7e7f1",
   "metadata": {},
   "outputs": [],
   "source": [
    "def func(arr, target):\n",
    "    idx_list = []\n",
    "    for i in range(len(arr)):\n",
    "        if (target == arr[i] ):\n",
    "            idx_list.append(i)\n",
    "\n",
    "    return [idx_list[0] , idx_list[-1] ]"
   ]
  },
  {
   "cell_type": "code",
   "execution_count": 10,
   "id": "f30065f5",
   "metadata": {},
   "outputs": [
    {
     "data": {
      "text/plain": [
       "[4, 7]"
      ]
     },
     "execution_count": 10,
     "metadata": {},
     "output_type": "execute_result"
    }
   ],
   "source": [
    "func(arr,target)"
   ]
  },
  {
   "cell_type": "code",
   "execution_count": null,
   "id": "1031f9a8",
   "metadata": {},
   "outputs": [],
   "source": []
  },
  {
   "cell_type": "code",
   "execution_count": null,
   "id": "6f950de1",
   "metadata": {},
   "outputs": [],
   "source": []
  }
 ],
 "metadata": {
  "kernelspec": {
   "display_name": "Python 3",
   "language": "python",
   "name": "python3"
  },
  "language_info": {
   "codemirror_mode": {
    "name": "ipython",
    "version": 3
   },
   "file_extension": ".py",
   "mimetype": "text/x-python",
   "name": "python",
   "nbconvert_exporter": "python",
   "pygments_lexer": "ipython3",
   "version": "3.8.8"
  }
 },
 "nbformat": 4,
 "nbformat_minor": 5
}
