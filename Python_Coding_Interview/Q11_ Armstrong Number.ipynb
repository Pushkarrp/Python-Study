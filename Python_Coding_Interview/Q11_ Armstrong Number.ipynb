{
 "cells": [
  {
   "cell_type": "code",
   "execution_count": 2,
   "id": "70daef38",
   "metadata": {},
   "outputs": [
    {
     "data": {
      "text/plain": [
       "'153 = 1*1*1 + 5*5*5 + 3*3*3\\n'"
      ]
     },
     "execution_count": 2,
     "metadata": {},
     "output_type": "execute_result"
    }
   ],
   "source": [
    "\"\"\"153 = 1*1*1 + 5*5*5 + 3*3*3\n",
    "\"\"\""
   ]
  },
  {
   "cell_type": "code",
   "execution_count": 22,
   "id": "057375fa",
   "metadata": {},
   "outputs": [],
   "source": [
    "def if_arm(num):\n",
    "    temp = num\n",
    "    arm = 0\n",
    "    \n",
    "    while(temp>0):\n",
    "        dig = temp%10\n",
    "        arm = arm + dig**3\n",
    "        temp = temp//10\n",
    "        \n",
    "    if(num==arm):\n",
    "        return True\n",
    "    else:\n",
    "        return False"
   ]
  },
  {
   "cell_type": "code",
   "execution_count": 24,
   "id": "b1d1b964",
   "metadata": {},
   "outputs": [
    {
     "data": {
      "text/plain": [
       "True"
      ]
     },
     "execution_count": 24,
     "metadata": {},
     "output_type": "execute_result"
    }
   ],
   "source": [
    "if_arm(407)"
   ]
  },
  {
   "cell_type": "code",
   "execution_count": null,
   "id": "2ace41db",
   "metadata": {},
   "outputs": [],
   "source": []
  },
  {
   "cell_type": "code",
   "execution_count": 17,
   "id": "56b6cf2b",
   "metadata": {},
   "outputs": [],
   "source": [
    "def range_arm(start , end):\n",
    "    for num in range(start , end+1):\n",
    "        temp = num\n",
    "        arm = 0\n",
    "    \n",
    "        while(temp>0):\n",
    "            dig = temp%10\n",
    "            arm = arm + dig**3\n",
    "            temp = temp//10\n",
    "        \n",
    "        if(num==arm):\n",
    "            print(arm)"
   ]
  },
  {
   "cell_type": "code",
   "execution_count": 19,
   "id": "5ed0b51b",
   "metadata": {},
   "outputs": [
    {
     "name": "stdout",
     "output_type": "stream",
     "text": [
      "153\n",
      "370\n",
      "371\n",
      "407\n"
     ]
    }
   ],
   "source": [
    "range_arm(100,600)"
   ]
  },
  {
   "cell_type": "code",
   "execution_count": null,
   "id": "b5409b67",
   "metadata": {},
   "outputs": [],
   "source": []
  },
  {
   "cell_type": "code",
   "execution_count": null,
   "id": "1cfb9cdc",
   "metadata": {},
   "outputs": [],
   "source": []
  },
  {
   "cell_type": "code",
   "execution_count": null,
   "id": "a446497a",
   "metadata": {},
   "outputs": [],
   "source": []
  }
 ],
 "metadata": {
  "kernelspec": {
   "display_name": "Python 3",
   "language": "python",
   "name": "python3"
  },
  "language_info": {
   "codemirror_mode": {
    "name": "ipython",
    "version": 3
   },
   "file_extension": ".py",
   "mimetype": "text/x-python",
   "name": "python",
   "nbconvert_exporter": "python",
   "pygments_lexer": "ipython3",
   "version": "3.8.8"
  }
 },
 "nbformat": 4,
 "nbformat_minor": 5
}
