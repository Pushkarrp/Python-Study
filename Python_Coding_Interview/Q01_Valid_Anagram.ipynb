{
 "cells": [
  {
   "cell_type": "code",
   "execution_count": 1,
   "id": "bbba4013",
   "metadata": {},
   "outputs": [],
   "source": [
    "s1 = \"garden\"\n",
    "s2 = \"danger\""
   ]
  },
  {
   "cell_type": "code",
   "execution_count": 2,
   "id": "f6110ba4",
   "metadata": {},
   "outputs": [],
   "source": [
    "def check_anagram(s1,s2):\n",
    "    dict1 = {}\n",
    "    dict2 = {}\n",
    "    \n",
    "    if len(s1) != len(s2):\n",
    "        return False\n",
    "    \n",
    "    for ch in s1:\n",
    "        if ch in dict1:\n",
    "            dict1[ch] +=1\n",
    "        else:\n",
    "            dict1[ch] = 1\n",
    "    \n",
    "    for ch in s2:\n",
    "        if ch in dict2:\n",
    "            dict2[ch] +=1\n",
    "        else:\n",
    "            dict2[ch] = 1\n",
    "            \n",
    "    for key in dict1:\n",
    "        if key not in dict2 or dict1[key]!=dict2[key]:\n",
    "            return False\n",
    "        else:\n",
    "            return True\n",
    "# func ends"
   ]
  },
  {
   "cell_type": "code",
   "execution_count": 3,
   "id": "40a2ea7b",
   "metadata": {},
   "outputs": [
    {
     "name": "stdout",
     "output_type": "stream",
     "text": [
      "True\n"
     ]
    }
   ],
   "source": [
    "result = check_anagram(s1,s2)\n",
    "\n",
    "print(result)"
   ]
  },
  {
   "cell_type": "markdown",
   "id": "aa4f097d",
   "metadata": {},
   "source": [
    "____________________"
   ]
  },
  {
   "cell_type": "code",
   "execution_count": 4,
   "id": "e1cc4397",
   "metadata": {},
   "outputs": [],
   "source": [
    "from collections import Counter"
   ]
  },
  {
   "cell_type": "code",
   "execution_count": 5,
   "id": "24abc164",
   "metadata": {},
   "outputs": [],
   "source": [
    "def if_anagrams(s1,s2):\n",
    "    if len(s1) != len(s2):\n",
    "        return False\n",
    "    \n",
    "    if Counter(s1)== Counter(s2):\n",
    "        return True\n",
    "    else:\n",
    "        return False"
   ]
  },
  {
   "cell_type": "code",
   "execution_count": 6,
   "id": "bc4aa11c",
   "metadata": {},
   "outputs": [
    {
     "data": {
      "text/plain": [
       "True"
      ]
     },
     "execution_count": 6,
     "metadata": {},
     "output_type": "execute_result"
    }
   ],
   "source": [
    "if_anagrams(s1,s2)"
   ]
  },
  {
   "cell_type": "markdown",
   "id": "ca230053",
   "metadata": {},
   "source": [
    "__________________________"
   ]
  },
  {
   "cell_type": "code",
   "execution_count": 7,
   "id": "59bb5770",
   "metadata": {},
   "outputs": [],
   "source": [
    "def anagrams_check(s1,s2):\n",
    "    if len(s1) != len(s2):\n",
    "        return False\n",
    "    \n",
    "    if sorted(s1)== sorted(s2):\n",
    "        return True\n",
    "    else:\n",
    "        return False"
   ]
  },
  {
   "cell_type": "code",
   "execution_count": 8,
   "id": "89dddda9",
   "metadata": {},
   "outputs": [
    {
     "data": {
      "text/plain": [
       "True"
      ]
     },
     "execution_count": 8,
     "metadata": {},
     "output_type": "execute_result"
    }
   ],
   "source": [
    "anagrams_check(s1,s2)"
   ]
  },
  {
   "cell_type": "code",
   "execution_count": null,
   "id": "bb01ecc1",
   "metadata": {},
   "outputs": [],
   "source": []
  },
  {
   "cell_type": "markdown",
   "id": "93dccbf3",
   "metadata": {},
   "source": [
    "___________________________"
   ]
  },
  {
   "cell_type": "code",
   "execution_count": 15,
   "id": "731e46cd",
   "metadata": {},
   "outputs": [],
   "source": [
    "s1 = \"meike\"\n",
    "s2 = \"keime\"\n",
    "\n",
    "def anagram_chk(s1,s2):\n",
    "    dict1 = {}\n",
    "    dict2 = {}\n",
    "\n",
    "    if(len(s1)==len(s2)):\n",
    "        for ch in s1:\n",
    "            if ch in dict1.keys():\n",
    "                dict1[ch] = dict1[ch] + 1\n",
    "            else:\n",
    "                dict1[ch] = 1\n",
    "\n",
    "        for x in s2:\n",
    "            if x in dict2.keys():\n",
    "                dict2[x] = dict2[x]+1\n",
    "            else:\n",
    "                dict2[x] = 1\n",
    "\n",
    "        for key in dict1.keys():\n",
    "            if key not in dict2.keys() or dict1[key]!=dict2[key]:\n",
    "                print(False) \n",
    "        else:\n",
    "            print(True) \n",
    "    else:\n",
    "        print(False)"
   ]
  },
  {
   "cell_type": "code",
   "execution_count": 16,
   "id": "4ae8d9e4",
   "metadata": {},
   "outputs": [
    {
     "name": "stdout",
     "output_type": "stream",
     "text": [
      "True\n"
     ]
    }
   ],
   "source": [
    "anagram_chk(s1,s2)"
   ]
  },
  {
   "cell_type": "code",
   "execution_count": null,
   "id": "2775b99d",
   "metadata": {},
   "outputs": [],
   "source": []
  },
  {
   "cell_type": "code",
   "execution_count": 25,
   "id": "2370964d",
   "metadata": {},
   "outputs": [
    {
     "name": "stdout",
     "output_type": "stream",
     "text": [
      "True\n"
     ]
    }
   ],
   "source": [
    "s1 = \"cider\"\n",
    "s2 = \"cried\"\n",
    "\n",
    "counter1 = {}\n",
    "counter2 = {}\n",
    "\n",
    "if(len(s1)==len(s2)):\n",
    "    if( sorted(s1) == sorted(s2) ):\n",
    "        print(True)\n",
    "else:\n",
    "    print(False)"
   ]
  },
  {
   "cell_type": "code",
   "execution_count": null,
   "id": "60404bba",
   "metadata": {},
   "outputs": [],
   "source": []
  }
 ],
 "metadata": {
  "kernelspec": {
   "display_name": "Python 3",
   "language": "python",
   "name": "python3"
  },
  "language_info": {
   "codemirror_mode": {
    "name": "ipython",
    "version": 3
   },
   "file_extension": ".py",
   "mimetype": "text/x-python",
   "name": "python",
   "nbconvert_exporter": "python",
   "pygments_lexer": "ipython3",
   "version": "3.8.8"
  }
 },
 "nbformat": 4,
 "nbformat_minor": 5
}
